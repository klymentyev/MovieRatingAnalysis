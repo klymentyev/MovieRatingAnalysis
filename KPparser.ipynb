{
 "cells": [
  {
   "cell_type": "code",
   "execution_count": null,
   "id": "698009bc",
   "metadata": {},
   "outputs": [],
   "source": [
    "from selenium.webdriver import Chrome\n",
    "from selenium.webdriver.common.keys import Keys\n",
    "from selenium.webdriver.support.ui import WebDriverWait as wait\n",
    "from selenium.webdriver.support import expected_conditions as EC\n",
    "from selenium.common.exceptions import NoSuchElementException\n",
    "from selenium.webdriver.common.by import By\n",
    "\n",
    "import requests\n",
    "import pandas as pd\n",
    "from bs4 import BeautifulSoup\n",
    "from time import sleep"
   ]
  },
  {
   "cell_type": "code",
   "execution_count": null,
   "id": "e707e3ba",
   "metadata": {},
   "outputs": [],
   "source": [
    "data = []\n",
    "browser = Chrome('E:\\CromeDriver\\chromedriver.exe') #открытие браузера \n",
    "url = 'https://www.kinopoisk.ru/top/navigator/m_act[rating]/1.1%3A/m_act[ex_rating]/1.1%3A/m_act[is_film]/on/m_act[is_mult]/on/order/rating/perpage/200/#results'\n",
    "browser.get(url)\n",
    "sleep(5) #ожидание открытия браузера и перехода по ссылке \n",
    "x = 5\n",
    "for p in range(1, 126):\n",
    "\n",
    "    \n",
    "    soup = BeautifulSoup(browser.page_source, \"lxml\") #загрузка кода страницы \n",
    "    films = soup.findAll('div', class_='item _NO_HIGHLIGHT_') #поиск всех ячеек с фильмами\n",
    "\n",
    "    for film in films: #сбор информации из ячейки фильма  \n",
    "            name = film.find('div', class_='name').find('a').text\n",
    "            country = film.find('span', class_='gray_text').text.splitlines()[1]\n",
    "            country = (country + '1')[0:country.find('.') + country.find(',') + 1].strip()\n",
    "            kp = film.find('div', class_='numVote').text[0:4]\n",
    "            imdb = film.find('div', class_='imdb').text[6:10]\n",
    "            genre = film.find('span', class_='gray_text').text.splitlines()[-2].strip()\n",
    "            genre = genre[1:genre.find('.')].split(', ')\n",
    "\n",
    "            data.append([name, country, kp, imdb] + genre)\n",
    "\n",
    "    print(len(data)) #контроль прогресса \n",
    "    print(p)\n",
    "    if p == 125: break\n",
    "    browser.find_element(By.XPATH ,f'//*[@id=\"results\"]/table/tbody/tr[2]/td/div/div/ul/li[{x}]/a').click() #переход на след. страницу\n",
    "    if p < 3:     #рассчет позиции кнопки перехода на след. страницу \n",
    "        x = p + 7\n",
    "    else: \n",
    "        if 125 - p <= 3:\n",
    "            x = 125 - p + 6\n",
    "        else:\n",
    "            x = 10\n",
    "    sleep(10)"
   ]
  },
  {
   "cell_type": "code",
   "execution_count": null,
   "id": "48ebd8db",
   "metadata": {},
   "outputs": [],
   "source": [
    "pd.DataFrame(data, columns = ['Название', 'Страна', 'КП', 'IMDB', 'Жанр_1', 'Жанр_2', 'Жанр_3'])"
   ]
  },
  {
   "cell_type": "code",
   "execution_count": null,
   "id": "b427e299",
   "metadata": {},
   "outputs": [],
   "source": [
    "pd.DataFrame(data).to_excel(\"output.xlsx\")"
   ]
  },
  {
   "cell_type": "code",
   "execution_count": null,
   "id": "dbcdba0d",
   "metadata": {},
   "outputs": [],
   "source": []
  }
 ],
 "metadata": {
  "kernelspec": {
   "display_name": "Python 3 (ipykernel)",
   "language": "python",
   "name": "python3"
  },
  "language_info": {
   "codemirror_mode": {
    "name": "ipython",
    "version": 3
   },
   "file_extension": ".py",
   "mimetype": "text/x-python",
   "name": "python",
   "nbconvert_exporter": "python",
   "pygments_lexer": "ipython3",
   "version": "3.9.7"
  }
 },
 "nbformat": 4,
 "nbformat_minor": 5
}
